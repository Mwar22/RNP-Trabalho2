{
 "cells": [
  {
   "cell_type": "markdown",
   "id": "2eee118b-7a58-41b4-9739-fb34eb2bce64",
   "metadata": {},
   "source": [
    "# Trabalho 2 - LSTM\n",
    "### by Lucas de Jesus B. Gonçalves"
   ]
  },
  {
   "cell_type": "code",
   "execution_count": 1,
   "id": "91b37390-3c9c-4c07-b9e0-990d13c383be",
   "metadata": {},
   "outputs": [],
   "source": [
    "import torch\n",
    "import torch.functional as F\n",
    "import torch.nn.init as init\n",
    "import numpy as np\n",
    "import matplotlib.pyplot as plt\n",
    "from torch import nn\n",
    "from torch.utils.data import Dataset, DataLoader\n",
    "from torchsummary import summary\n",
    "import sys"
   ]
  },
  {
   "cell_type": "code",
   "execution_count": 2,
   "id": "d36ed2e2-c657-4744-ac42-62e5e14186ad",
   "metadata": {},
   "outputs": [
    {
     "data": {
      "text/plain": [
       "'NVIDIA GeForce RTX 2060 SUPER'"
      ]
     },
     "execution_count": 2,
     "metadata": {},
     "output_type": "execute_result"
    }
   ],
   "source": [
    "torch.cuda.get_device_name(0)"
   ]
  },
  {
   "cell_type": "markdown",
   "id": "522759ce-c133-4f76-96f4-d46b88295143",
   "metadata": {},
   "source": [
    "### Dataset"
   ]
  },
  {
   "cell_type": "code",
   "execution_count": 46,
   "id": "9c56c4a0-1cda-410c-ad73-d66d3e246fc4",
   "metadata": {},
   "outputs": [],
   "source": [
    "# gera os dados segundo o trabalho\n",
    "def datagen(qtd_amostras = 500):\n",
    "    #parâmetros de inicialização\n",
    "    beta, gamma = 0.4, 0.2 #Não mudar\n",
    "    n, tau = 18, 20 #Não mudar\n",
    "    \n",
    "    x = tau*[0]\n",
    "    x.append(1)\n",
    "    for _ in range(0,qtd_amostras):\n",
    "        xt = x[-1]+(beta*x[-tau]/(1+x[-tau]**n))-gamma*x[-1]\n",
    "        x.append(xt)\n",
    "        \n",
    "    return x[tau+1:]\n",
    "    \n",
    "class TSDataset(Dataset):\n",
    "    def __init__(self, data, step_ahead):\n",
    "        self.step_ahead = step_ahead\n",
    "        self.data=torch.tensor(data, dtype=torch.float32)\n",
    "\n",
    "    #------------metodos sobrecarregados de Dataset-----------------\n",
    "    def __getitem__(self, index):\n",
    "        x = self.data[index: index + self.step_ahead]\n",
    "\n",
    "        #pega step_ahead de janela para saída (util para treinamento, mas apenas y[-1] interessa\n",
    "        y = self.data[index + 1: index + self.step_ahead +1 ]\n",
    "        return x.unsqueeze(1), y\n",
    "        \n",
    "    def __len__(self):\n",
    "        return len(self.data) - self.step_ahead"
   ]
  },
  {
   "cell_type": "markdown",
   "id": "781a11b4-ae4a-4bec-ab2a-136f5fdac77c",
   "metadata": {},
   "source": [
    "### Modelo"
   ]
  },
  {
   "cell_type": "code",
   "execution_count": 57,
   "id": "2b7a7a60-c1df-44ca-8af3-1ddef12d85b2",
   "metadata": {},
   "outputs": [],
   "source": [
    "class MeuModeloLSTM(nn.Module):\n",
    "    def __init__(self, step_ahead, hidden_size, num_layers,  dropout):\n",
    "        \n",
    "        #chama o construtor da superclasse\n",
    "        super().__init__()\n",
    "\n",
    "        self.step_ahead = step_ahead\n",
    "        self.hidden_size = hidden_size\n",
    "        self.num_layers = num_layers\n",
    "\n",
    "        #cria o modelo lstm\n",
    "        #numero de features do dataset é 1 (apenas 1 feature)\n",
    "        self.net = nn.LSTM(1, hidden_size, num_layers,  dropout = dropout, batch_first = True)\n",
    "\n",
    "        #camada linear para traduzir os valores de saída\n",
    "        self.out = nn.Linear(hidden_size, 1)\n",
    "        \n",
    "        #chama função de inicialização dos pesos\n",
    "        self.init_weights()\n",
    "\n",
    "    \n",
    "    def forward(self, x):\n",
    "        batch_size = x.size(0)\n",
    "\n",
    "        # Initializa as variaveis ocultas\n",
    "        h0 = torch.zeros(self.num_layers, batch_size, self.hidden_size).to(x.device)\n",
    "        c0 = torch.zeros(self.num_layers, batch_size, self.hidden_size).to(x.device)\n",
    "\n",
    "        hout, (h0, c0) = self.net(x, (h0, c0))\n",
    "        #shape hout = batch_size, step_ahead, hidden_size)\n",
    "        \n",
    "\n",
    "        # Applica a camada de saída para cada estado oculto\n",
    "        y = self.out(hout)  #shape: (batch_size, seq_length, 1)\n",
    "\n",
    "        #print(f\"x={x.shape} , hout={hout.shape} , y={y.shape}\")\n",
    "        return y.squeeze(-1)  #shape: (batch_size, seq_length)\n",
    "\n",
    "    \n",
    "    \n",
    "    #inicializa pesos com inicialização xavier\n",
    "    def init_weights(self):\n",
    "        for m in self.modules():\n",
    "            if isinstance(m, nn.Linear):\n",
    "                init.xavier_normal_(m.weight) # xavier\n",
    "                if m.bias is not None:\n",
    "                    init.constant_(m.bias, 0) \n",
    "\n",
    "    \n",
    "\n",
    "    def treinar(self, train_loader, val_loader, num_epochs, cost_function, optimizer, scheduler = None, verbose=True):\n",
    "        \n",
    "        # Dispositivo para o processamento\n",
    "        device = next(self.parameters()).device\n",
    "\n",
    "        #ativa o autotuner do cuDNN = + performace\n",
    "        torch.backends.cudnn.benchmark = True\n",
    "\n",
    "        #ativa scaler para quando o gradiente é muito pequeno quando usando fp16\n",
    "        scaler = torch.cuda.amp.GradScaler()\n",
    "\n",
    "        #otimização gpu\n",
    "        use_amp = True\n",
    "        #-----------------------------------------------------------------------\n",
    "\n",
    "        #configura as variaveis internas iniciais\n",
    "        \n",
    "        loss_history = {\"train\": [], \"val\":[]}\n",
    "        learning_rates = []\n",
    "\n",
    "        for epoch in range(num_epochs):\n",
    "    \n",
    "            # Loss acumulada para o treino\n",
    "            acum_train_loss = 0\n",
    "            acum_val_loss = 0\n",
    "\n",
    "            #define como treino\n",
    "            self.train()\n",
    "            \n",
    "            # loop para cada batch\n",
    "            for batch_index, (train_x, train_y) in enumerate(train_loader):\n",
    "\n",
    "        \n",
    "                 # Carrega os dados no dispositivo (GPU)\n",
    "                train_x = train_x.to(device, non_blocking=True)\n",
    "                train_y = train_y.to(device, non_blocking=True)\n",
    "                \n",
    "                #Roda o foward com autocast para aproveitar do boost fp16 dos tensorcores\n",
    "                with torch.autocast(device_type=\"cuda\", dtype=torch.float16, enabled=use_amp):\n",
    "                   \n",
    "                    train_output = self(train_x)\n",
    "                    train_loss = cost_function(train_output, train_y)\n",
    "\n",
    "        \n",
    "                # faz update da loss acumulada\n",
    "                acum_train_loss += train_loss.item()\n",
    "                \n",
    "                # Backward e update\n",
    "                # Zera o gradiente para evitar BO (set to none = + desempenho)\n",
    "                optimizer.zero_grad(set_to_none=True)    \n",
    "\n",
    "                #aplica escala na loss e aplica o backward\n",
    "                scaler.scale(train_loss).backward()\n",
    "\n",
    "                #se tiver algum NaN ou inf, optimizer.step() não é executado\n",
    "                scaler.step(optimizer)\n",
    "\n",
    "                #atualiza o scaler para a proxima iteração\n",
    "                scaler.update()\n",
    "    \n",
    "            # Validação\n",
    "            self.eval()\n",
    "            \n",
    "            # Não precisa calcular gradiente para a validação\n",
    "            with torch.no_grad():  \n",
    "                for batch_index, (val_x, val_y) in enumerate(val_loader):\n",
    "\n",
    "                    val_x = val_x.to(device, non_blocking=True)\n",
    "                    val_y = val_y.to(device, non_blocking=True)\n",
    "\n",
    "                    \n",
    "                    with torch.autocast(device_type=\"cuda\", dtype=torch.float16, enabled=use_amp):\n",
    "                        val_output = self(val_x)\n",
    "                        val_loss = cost_function(val_output, val_y)\n",
    "                        \n",
    "                    acum_val_loss += val_loss.item()\n",
    "    \n",
    "            # Calcula as metricas para a epoca\n",
    "            epoch_train_loss = acum_train_loss / len(train_loader)\n",
    "            epoch_val_loss = acum_val_loss / len(val_loader)\n",
    "            \n",
    "\n",
    "            #atualiza o scheduller\n",
    "            if scheduler is not None:\n",
    "                #atualiza a lr\n",
    "                lr_antiga = optimizer.param_groups[0][\"lr\"]\n",
    "                scheduler.step(epoch_val_loss)\n",
    "                lr_nova = optimizer.param_groups[0][\"lr\"]\n",
    "\n",
    "\n",
    "            learning_rates.append(optimizer.param_groups[0][\"lr\"])\n",
    "            \n",
    "            # Salva a loss e a acuracia de treino e validação\n",
    "            loss_history[\"train\"].append(epoch_train_loss)\n",
    "            loss_history[\"val\"].append(epoch_val_loss)\n",
    "    \n",
    "            if verbose:\n",
    "                print(f\"Epoch {epoch + 1}/{num_epochs} > Train Loss: {epoch_train_loss:.4f}, Val Loss: {epoch_val_loss:.4f}\")\n",
    "\n",
    "        return loss_history, learning_rates"
   ]
  },
  {
   "cell_type": "markdown",
   "id": "a4a6465f-9e02-4c81-a74c-bf8b1e77cc4d",
   "metadata": {},
   "source": [
    "### Treinamento"
   ]
  },
  {
   "cell_type": "code",
   "execution_count": 58,
   "id": "a2ab28f6-554b-4b7b-a558-ee35d8de3c21",
   "metadata": {},
   "outputs": [],
   "source": [
    "data =  datagen(qtd_amostras = 5000)\n",
    "\n",
    "# Faz o split do dataset em treino e validação\n",
    "split_index = int(len(data) * 0.9)\n",
    "train_data = data[:split_index]\n",
    "val_data = data[split_index:]\n",
    "\n",
    "#cria os objetos do tipo dataset\n",
    "step_ahead = 64\n",
    "train_ds = TSDataset(train_data, step_ahead)\n",
    "val_ds = TSDataset(val_data, step_ahead)\n",
    "\n",
    "#cria os dataloaders\n",
    "train_loader = DataLoader(train_ds, batch_size=256, pin_memory=True, shuffle=False, num_workers=4)\n",
    "val_loader = DataLoader(val_ds, batch_size=64, pin_memory=True, shuffle=False, num_workers=2)"
   ]
  },
  {
   "cell_type": "code",
   "execution_count": 66,
   "id": "c7cb87c6-8074-4f4e-981c-ca60b62209d6",
   "metadata": {},
   "outputs": [],
   "source": [
    "import torch.optim.lr_scheduler as lr_scheduler\n",
    "\n",
    "#verifica se tem gpu disponível e configura automaticamente\n",
    "device = torch.device('cuda' if torch.cuda.is_available() else 'cpu')\n",
    "\n",
    "#cria o modelo e o atribui para o melhor dispositivo encontrado\n",
    "\n",
    "#modelo\n",
    "modelo = MeuModeloLSTM(step_ahead = step_ahead, hidden_size=16, num_layers=10,  dropout=0).to(device, non_blocking=True)\n",
    "\n",
    "#configuração do otimizador: melhor 5e-4 (val loss 0.0022)\n",
    "learning_rate = 1e-3\n",
    "\n",
    "# melhor 0.0005 (val loss 0.0022)\n",
    "decay = 0.0005\n",
    "\n",
    "#configuração epocas\n",
    "epochs = 200\n",
    "\n",
    "#optimizer = torch.optim.Adam(modelo.parameters(), lr=learning_rate, weight_decay = decay, fused=True)\n",
    "optimizer = torch.optim.AdamW(modelo.parameters(), lr=learning_rate, weight_decay = decay, fused=True)\n",
    "\n",
    "#scheduler = None\n",
    "scheduler = lr_scheduler.ReduceLROnPlateau(optimizer, mode='min', factor=0.618, patience=30, threshold=1e-2, threshold_mode='abs')\n",
    "#scheduler = lr_scheduler.OneCycleLR(optimizer, max_lr=learning_rate, div_factor= 30, steps_per_epoch=1, epochs=epochs)\n",
    "#scheduler = lr_scheduler.CyclicLR(optimizer, base_lr=learning_rate, max_lr = 0.01, step_size_up = 15, step_size_down=25, mode=\"triangular2\")\n",
    "#scheduler = lr_scheduler.CosineAnnealingWarmRestarts(optimizer, T_0=10, T_mult=2, eta_min=0.0001)\n",
    "#scheduler = lr_scheduler.CosineAnnealingLR(optimizer, T_max=20, eta_min=1e-6)\n",
    "#scheduler = lr_scheduler.LinearLR(optimizer, start_factor=1, end_factor=0.01, total_iters=epochs)\n",
    "\n",
    "#função de loss\n",
    "cost = nn.MSELoss()"
   ]
  },
  {
   "cell_type": "code",
   "execution_count": 67,
   "id": "d3718fdc-0602-4992-a57a-1620ae72feeb",
   "metadata": {},
   "outputs": [],
   "source": [
    "#summary(modelo, input_size=(64, 1, ))"
   ]
  },
  {
   "cell_type": "code",
   "execution_count": 68,
   "id": "4e61b677-3400-4af3-9f21-9ef26f55e3d4",
   "metadata": {},
   "outputs": [
    {
     "name": "stdout",
     "output_type": "stream",
     "text": [
      "Epoch 1/200 > Train Loss: 0.5918, Val Loss: 0.3452\n",
      "Epoch 2/200 > Train Loss: 0.2178, Val Loss: 0.1768\n",
      "Epoch 3/200 > Train Loss: 0.1671, Val Loss: 0.1570\n",
      "Epoch 4/200 > Train Loss: 0.1593, Val Loss: 0.1545\n",
      "Epoch 5/200 > Train Loss: 0.1577, Val Loss: 0.1533\n",
      "Epoch 6/200 > Train Loss: 0.1566, Val Loss: 0.1523\n",
      "Epoch 7/200 > Train Loss: 0.1557, Val Loss: 0.1513\n",
      "Epoch 8/200 > Train Loss: 0.1547, Val Loss: 0.1503\n",
      "Epoch 9/200 > Train Loss: 0.1537, Val Loss: 0.1493\n",
      "Epoch 10/200 > Train Loss: 0.1528, Val Loss: 0.1484\n",
      "Epoch 11/200 > Train Loss: 0.1519, Val Loss: 0.1475\n",
      "Epoch 12/200 > Train Loss: 0.1511, Val Loss: 0.1468\n",
      "Epoch 13/200 > Train Loss: 0.1504, Val Loss: 0.1461\n",
      "Epoch 14/200 > Train Loss: 0.1499, Val Loss: 0.1456\n",
      "Epoch 15/200 > Train Loss: 0.1494, Val Loss: 0.1451\n",
      "Epoch 16/200 > Train Loss: 0.1489, Val Loss: 0.1446\n",
      "Epoch 17/200 > Train Loss: 0.1484, Val Loss: 0.1441\n",
      "Epoch 18/200 > Train Loss: 0.1472, Val Loss: 0.1410\n",
      "Epoch 19/200 > Train Loss: 0.1305, Val Loss: 0.1194\n",
      "Epoch 20/200 > Train Loss: 0.1132, Val Loss: 0.1104\n",
      "Epoch 21/200 > Train Loss: 0.1059, Val Loss: 0.1013\n",
      "Epoch 22/200 > Train Loss: 0.1009, Val Loss: 0.0978\n",
      "Epoch 23/200 > Train Loss: 0.0954, Val Loss: 0.0917\n",
      "Epoch 24/200 > Train Loss: 0.0908, Val Loss: 0.0867\n",
      "Epoch 25/200 > Train Loss: 0.0863, Val Loss: 0.0876\n",
      "Epoch 26/200 > Train Loss: 0.0838, Val Loss: 0.0872\n",
      "Epoch 27/200 > Train Loss: 0.0810, Val Loss: 0.0824\n",
      "Epoch 28/200 > Train Loss: 0.0781, Val Loss: 0.0795\n",
      "Epoch 29/200 > Train Loss: 0.0765, Val Loss: 0.0780\n",
      "Epoch 30/200 > Train Loss: 0.0750, Val Loss: 0.0757\n",
      "Epoch 31/200 > Train Loss: 0.0737, Val Loss: 0.0732\n",
      "Epoch 32/200 > Train Loss: 0.0721, Val Loss: 0.0702\n",
      "Epoch 33/200 > Train Loss: 0.0704, Val Loss: 0.0705\n",
      "Epoch 34/200 > Train Loss: 0.0690, Val Loss: 0.0691\n",
      "Epoch 35/200 > Train Loss: 0.0676, Val Loss: 0.0657\n",
      "Epoch 36/200 > Train Loss: 0.0657, Val Loss: 0.0643\n",
      "Epoch 37/200 > Train Loss: 0.0646, Val Loss: 0.0646\n",
      "Epoch 38/200 > Train Loss: 0.0633, Val Loss: 0.0624\n",
      "Epoch 39/200 > Train Loss: 0.0617, Val Loss: 0.0610\n",
      "Epoch 40/200 > Train Loss: 0.0601, Val Loss: 0.0593\n",
      "Epoch 41/200 > Train Loss: 0.0588, Val Loss: 0.0575\n",
      "Epoch 42/200 > Train Loss: 0.0575, Val Loss: 0.0564\n",
      "Epoch 43/200 > Train Loss: 0.0558, Val Loss: 0.0551\n",
      "Epoch 44/200 > Train Loss: 0.0544, Val Loss: 0.0533\n",
      "Epoch 45/200 > Train Loss: 0.0531, Val Loss: 0.0518\n",
      "Epoch 46/200 > Train Loss: 0.0519, Val Loss: 0.0500\n",
      "Epoch 47/200 > Train Loss: 0.0511, Val Loss: 0.0486\n",
      "Epoch 48/200 > Train Loss: 0.0507, Val Loss: 0.0463\n",
      "Epoch 49/200 > Train Loss: 0.0503, Val Loss: 0.0470\n",
      "Epoch 50/200 > Train Loss: 0.0492, Val Loss: 0.0445\n",
      "Epoch 51/200 > Train Loss: 0.0473, Val Loss: 0.0436\n",
      "Epoch 52/200 > Train Loss: 0.0459, Val Loss: 0.0430\n",
      "Epoch 53/200 > Train Loss: 0.0447, Val Loss: 0.0417\n",
      "Epoch 54/200 > Train Loss: 0.0438, Val Loss: 0.0415\n",
      "Epoch 55/200 > Train Loss: 0.0430, Val Loss: 0.0409\n",
      "Epoch 56/200 > Train Loss: 0.0422, Val Loss: 0.0399\n",
      "Epoch 57/200 > Train Loss: 0.0415, Val Loss: 0.0388\n",
      "Epoch 58/200 > Train Loss: 0.0408, Val Loss: 0.0379\n",
      "Epoch 59/200 > Train Loss: 0.0401, Val Loss: 0.0368\n",
      "Epoch 60/200 > Train Loss: 0.0394, Val Loss: 0.0356\n",
      "Epoch 61/200 > Train Loss: 0.0386, Val Loss: 0.0346\n",
      "Epoch 62/200 > Train Loss: 0.0379, Val Loss: 0.0334\n",
      "Epoch 63/200 > Train Loss: 0.0371, Val Loss: 0.0322\n",
      "Epoch 64/200 > Train Loss: 0.0362, Val Loss: 0.0311\n",
      "Epoch 65/200 > Train Loss: 0.0352, Val Loss: 0.0299\n",
      "Epoch 66/200 > Train Loss: 0.0342, Val Loss: 0.0287\n",
      "Epoch 67/200 > Train Loss: 0.0330, Val Loss: 0.0273\n",
      "Epoch 68/200 > Train Loss: 0.0316, Val Loss: 0.0258\n",
      "Epoch 69/200 > Train Loss: 0.0300, Val Loss: 0.0244\n",
      "Epoch 70/200 > Train Loss: 0.0279, Val Loss: 0.0228\n",
      "Epoch 71/200 > Train Loss: 0.0259, Val Loss: 0.0214\n",
      "Epoch 72/200 > Train Loss: 0.0242, Val Loss: 0.0200\n",
      "Epoch 73/200 > Train Loss: 0.0227, Val Loss: 0.0188\n",
      "Epoch 74/200 > Train Loss: 0.0215, Val Loss: 0.0174\n",
      "Epoch 75/200 > Train Loss: 0.0204, Val Loss: 0.0161\n",
      "Epoch 76/200 > Train Loss: 0.0193, Val Loss: 0.0150\n",
      "Epoch 77/200 > Train Loss: 0.0181, Val Loss: 0.0144\n",
      "Epoch 78/200 > Train Loss: 0.0168, Val Loss: 0.0140\n",
      "Epoch 79/200 > Train Loss: 0.0153, Val Loss: 0.0133\n",
      "Epoch 80/200 > Train Loss: 0.0136, Val Loss: 0.0118\n",
      "Epoch 81/200 > Train Loss: 0.0122, Val Loss: 0.0103\n",
      "Epoch 82/200 > Train Loss: 0.0113, Val Loss: 0.0092\n",
      "Epoch 83/200 > Train Loss: 0.0103, Val Loss: 0.0086\n",
      "Epoch 84/200 > Train Loss: 0.0095, Val Loss: 0.0080\n",
      "Epoch 85/200 > Train Loss: 0.0082, Val Loss: 0.0067\n",
      "Epoch 86/200 > Train Loss: 0.0073, Val Loss: 0.0061\n",
      "Epoch 87/200 > Train Loss: 0.0066, Val Loss: 0.0057\n",
      "Epoch 88/200 > Train Loss: 0.0061, Val Loss: 0.0055\n",
      "Epoch 89/200 > Train Loss: 0.0057, Val Loss: 0.0051\n",
      "Epoch 90/200 > Train Loss: 0.0054, Val Loss: 0.0047\n",
      "Epoch 91/200 > Train Loss: 0.0052, Val Loss: 0.0044\n",
      "Epoch 92/200 > Train Loss: 0.0049, Val Loss: 0.0045\n",
      "Epoch 93/200 > Train Loss: 0.0046, Val Loss: 0.0044\n",
      "Epoch 94/200 > Train Loss: 0.0043, Val Loss: 0.0040\n",
      "Epoch 95/200 > Train Loss: 0.0042, Val Loss: 0.0038\n",
      "Epoch 96/200 > Train Loss: 0.0040, Val Loss: 0.0036\n",
      "Epoch 97/200 > Train Loss: 0.0039, Val Loss: 0.0035\n",
      "Epoch 98/200 > Train Loss: 0.0038, Val Loss: 0.0035\n",
      "Epoch 99/200 > Train Loss: 0.0037, Val Loss: 0.0034\n",
      "Epoch 100/200 > Train Loss: 0.0036, Val Loss: 0.0033\n",
      "Epoch 101/200 > Train Loss: 0.0035, Val Loss: 0.0033\n",
      "Epoch 102/200 > Train Loss: 0.0034, Val Loss: 0.0032\n",
      "Epoch 103/200 > Train Loss: 0.0034, Val Loss: 0.0032\n",
      "Epoch 104/200 > Train Loss: 0.0034, Val Loss: 0.0032\n",
      "Epoch 105/200 > Train Loss: 0.0033, Val Loss: 0.0030\n",
      "Epoch 106/200 > Train Loss: 0.0032, Val Loss: 0.0031\n",
      "Epoch 107/200 > Train Loss: 0.0032, Val Loss: 0.0031\n",
      "Epoch 108/200 > Train Loss: 0.0032, Val Loss: 0.0030\n",
      "Epoch 109/200 > Train Loss: 0.0031, Val Loss: 0.0029\n",
      "Epoch 110/200 > Train Loss: 0.0030, Val Loss: 0.0029\n",
      "Epoch 111/200 > Train Loss: 0.0030, Val Loss: 0.0029\n",
      "Epoch 112/200 > Train Loss: 0.0029, Val Loss: 0.0028\n",
      "Epoch 113/200 > Train Loss: 0.0028, Val Loss: 0.0027\n",
      "Epoch 114/200 > Train Loss: 0.0028, Val Loss: 0.0027\n",
      "Epoch 115/200 > Train Loss: 0.0028, Val Loss: 0.0027\n",
      "Epoch 116/200 > Train Loss: 0.0028, Val Loss: 0.0027\n",
      "Epoch 117/200 > Train Loss: 0.0027, Val Loss: 0.0026\n",
      "Epoch 118/200 > Train Loss: 0.0027, Val Loss: 0.0026\n",
      "Epoch 119/200 > Train Loss: 0.0027, Val Loss: 0.0026\n",
      "Epoch 120/200 > Train Loss: 0.0027, Val Loss: 0.0026\n",
      "Epoch 121/200 > Train Loss: 0.0026, Val Loss: 0.0025\n",
      "Epoch 122/200 > Train Loss: 0.0026, Val Loss: 0.0025\n",
      "Epoch 123/200 > Train Loss: 0.0026, Val Loss: 0.0025\n",
      "Epoch 124/200 > Train Loss: 0.0026, Val Loss: 0.0025\n",
      "Epoch 125/200 > Train Loss: 0.0026, Val Loss: 0.0025\n",
      "Epoch 126/200 > Train Loss: 0.0025, Val Loss: 0.0025\n",
      "Epoch 127/200 > Train Loss: 0.0025, Val Loss: 0.0024\n",
      "Epoch 128/200 > Train Loss: 0.0025, Val Loss: 0.0024\n",
      "Epoch 129/200 > Train Loss: 0.0025, Val Loss: 0.0024\n",
      "Epoch 130/200 > Train Loss: 0.0025, Val Loss: 0.0024\n",
      "Epoch 131/200 > Train Loss: 0.0024, Val Loss: 0.0024\n",
      "Epoch 132/200 > Train Loss: 0.0024, Val Loss: 0.0023\n",
      "Epoch 133/200 > Train Loss: 0.0024, Val Loss: 0.0023\n",
      "Epoch 134/200 > Train Loss: 0.0024, Val Loss: 0.0023\n",
      "Epoch 135/200 > Train Loss: 0.0024, Val Loss: 0.0023\n",
      "Epoch 136/200 > Train Loss: 0.0024, Val Loss: 0.0023\n",
      "Epoch 137/200 > Train Loss: 0.0023, Val Loss: 0.0022\n",
      "Epoch 138/200 > Train Loss: 0.0023, Val Loss: 0.0022\n",
      "Epoch 139/200 > Train Loss: 0.0023, Val Loss: 0.0022\n",
      "Epoch 140/200 > Train Loss: 0.0023, Val Loss: 0.0022\n",
      "Epoch 141/200 > Train Loss: 0.0023, Val Loss: 0.0022\n",
      "Epoch 142/200 > Train Loss: 0.0022, Val Loss: 0.0022\n",
      "Epoch 143/200 > Train Loss: 0.0022, Val Loss: 0.0022\n",
      "Epoch 144/200 > Train Loss: 0.0022, Val Loss: 0.0021\n",
      "Epoch 145/200 > Train Loss: 0.0021, Val Loss: 0.0021\n",
      "Epoch 146/200 > Train Loss: 0.0021, Val Loss: 0.0021\n",
      "Epoch 147/200 > Train Loss: 0.0021, Val Loss: 0.0021\n",
      "Epoch 148/200 > Train Loss: 0.0021, Val Loss: 0.0020\n",
      "Epoch 149/200 > Train Loss: 0.0021, Val Loss: 0.0020\n",
      "Epoch 150/200 > Train Loss: 0.0021, Val Loss: 0.0020\n",
      "Epoch 151/200 > Train Loss: 0.0021, Val Loss: 0.0020\n",
      "Epoch 152/200 > Train Loss: 0.0021, Val Loss: 0.0020\n",
      "Epoch 153/200 > Train Loss: 0.0020, Val Loss: 0.0020\n",
      "Epoch 154/200 > Train Loss: 0.0020, Val Loss: 0.0020\n",
      "Epoch 155/200 > Train Loss: 0.0020, Val Loss: 0.0019\n",
      "Epoch 156/200 > Train Loss: 0.0020, Val Loss: 0.0019\n",
      "Epoch 157/200 > Train Loss: 0.0020, Val Loss: 0.0019\n",
      "Epoch 158/200 > Train Loss: 0.0020, Val Loss: 0.0019\n",
      "Epoch 159/200 > Train Loss: 0.0020, Val Loss: 0.0019\n",
      "Epoch 160/200 > Train Loss: 0.0020, Val Loss: 0.0019\n",
      "Epoch 161/200 > Train Loss: 0.0019, Val Loss: 0.0019\n",
      "Epoch 162/200 > Train Loss: 0.0019, Val Loss: 0.0018\n",
      "Epoch 163/200 > Train Loss: 0.0019, Val Loss: 0.0018\n",
      "Epoch 164/200 > Train Loss: 0.0019, Val Loss: 0.0018\n",
      "Epoch 165/200 > Train Loss: 0.0019, Val Loss: 0.0018\n",
      "Epoch 166/200 > Train Loss: 0.0019, Val Loss: 0.0018\n",
      "Epoch 167/200 > Train Loss: 0.0019, Val Loss: 0.0018\n",
      "Epoch 168/200 > Train Loss: 0.0018, Val Loss: 0.0018\n",
      "Epoch 169/200 > Train Loss: 0.0018, Val Loss: 0.0018\n",
      "Epoch 170/200 > Train Loss: 0.0018, Val Loss: 0.0017\n",
      "Epoch 171/200 > Train Loss: 0.0018, Val Loss: 0.0017\n",
      "Epoch 172/200 > Train Loss: 0.0018, Val Loss: 0.0017\n",
      "Epoch 173/200 > Train Loss: 0.0018, Val Loss: 0.0017\n",
      "Epoch 174/200 > Train Loss: 0.0018, Val Loss: 0.0017\n",
      "Epoch 175/200 > Train Loss: 0.0017, Val Loss: 0.0017\n",
      "Epoch 176/200 > Train Loss: 0.0017, Val Loss: 0.0017\n",
      "Epoch 177/200 > Train Loss: 0.0017, Val Loss: 0.0017\n",
      "Epoch 178/200 > Train Loss: 0.0017, Val Loss: 0.0017\n",
      "Epoch 179/200 > Train Loss: 0.0017, Val Loss: 0.0016\n",
      "Epoch 180/200 > Train Loss: 0.0017, Val Loss: 0.0016\n",
      "Epoch 181/200 > Train Loss: 0.0017, Val Loss: 0.0016\n",
      "Epoch 182/200 > Train Loss: 0.0017, Val Loss: 0.0016\n",
      "Epoch 183/200 > Train Loss: 0.0017, Val Loss: 0.0016\n",
      "Epoch 184/200 > Train Loss: 0.0017, Val Loss: 0.0016\n",
      "Epoch 185/200 > Train Loss: 0.0017, Val Loss: 0.0016\n",
      "Epoch 186/200 > Train Loss: 0.0017, Val Loss: 0.0016\n",
      "Epoch 187/200 > Train Loss: 0.0017, Val Loss: 0.0016\n",
      "Epoch 188/200 > Train Loss: 0.0016, Val Loss: 0.0016\n",
      "Epoch 189/200 > Train Loss: 0.0016, Val Loss: 0.0016\n",
      "Epoch 190/200 > Train Loss: 0.0016, Val Loss: 0.0016\n",
      "Epoch 191/200 > Train Loss: 0.0016, Val Loss: 0.0016\n",
      "Epoch 192/200 > Train Loss: 0.0016, Val Loss: 0.0016\n",
      "Epoch 193/200 > Train Loss: 0.0016, Val Loss: 0.0016\n",
      "Epoch 194/200 > Train Loss: 0.0016, Val Loss: 0.0015\n",
      "Epoch 195/200 > Train Loss: 0.0016, Val Loss: 0.0015\n",
      "Epoch 196/200 > Train Loss: 0.0016, Val Loss: 0.0015\n",
      "Epoch 197/200 > Train Loss: 0.0016, Val Loss: 0.0015\n",
      "Epoch 198/200 > Train Loss: 0.0016, Val Loss: 0.0015\n",
      "Epoch 199/200 > Train Loss: 0.0016, Val Loss: 0.0015\n",
      "Epoch 200/200 > Train Loss: 0.0016, Val Loss: 0.0015\n"
     ]
    }
   ],
   "source": [
    "hist, learning_rates = modelo.treinar(train_loader, val_loader,  epochs, cost, optimizer, scheduler=scheduler, verbose=True)"
   ]
  },
  {
   "cell_type": "code",
   "execution_count": 70,
   "id": "2f290800-70f2-47f7-a02a-c47d66f08dae",
   "metadata": {},
   "outputs": [
    {
     "data": {
      "image/png": "[encoded data removed]",
      "text/plain": [
       "<Figure size 640x480 with 2 Axes>"
      ]
     },
     "metadata": {},
     "output_type": "display_data"
    }
   ],
   "source": [
    "fig, ax1 = plt.subplots()\n",
    "ax1.plot(hist[\"train\"], label=\"treino\")\n",
    "ax1.plot(hist[\"val\"], label=\"val\")\n",
    "\n",
    "ax1.set_xlabel(\"Epoch\") \n",
    "ax1.set_ylabel(\"Loss MSE\") \n",
    "ax1.legend(loc='upper right')\n",
    "\n",
    "ax2 = ax1.twinx()\n",
    "ax2.plot(learning_rates, 'g-', label=\"lr\")\n",
    "ax2.legend(loc='center right')\n",
    "\n",
    "plt.title(\"Curvas de Loss\") \n",
    "plt.show()"
   ]
  },
  {
   "cell_type": "code",
   "execution_count": 71,
   "id": "f46b79a6-d73b-43ef-bca8-d3932e8fd725",
   "metadata": {},
   "outputs": [],
   "source": [
    "#torch.save(modelo, \"/home/lucas/mestrado/RNP-Trabalho2/modelo2\")"
   ]
  },
  {
   "cell_type": "code",
   "execution_count": null,
   "id": "0bd45b98-9402-41b9-963c-62edd8bea023",
   "metadata": {},
   "outputs": [],
   "source": [
    "m = torch.load(\"/home/lucas/mestrado/RNP-Trabalho2/modelo1\")\n",
    "m = m.to(device, non_blocking=True)"
   ]
  },
  {
   "cell_type": "code",
   "execution_count": null,
   "id": "57466a0b-b7b6-4b32-9738-8e3cacacaf9c",
   "metadata": {},
   "outputs": [],
   "source": [
    "def print_recursive(modelo, dados, instante, step_ahead):\n",
    "    # Dispositivo para o processamento\n",
    "    device = next(modelo.parameters()).device\n",
    "\n",
    "    #ativa o autotuner do cuDNN = + performace\n",
    "    torch.backends.cudnn.benchmark = True\n",
    "\n",
    "    #otimização gpu\n",
    "    use_amp = True\n",
    "    \n",
    "    len_dados = len(dados)\n",
    "    history = torch.tensor(dados[:instante], dtype=torch.float32)\n",
    "\n",
    "    # Não precisa calcular gradiente \n",
    "    modelo.eval()\n",
    "    with torch.no_grad():  \n",
    "        for _ in range(instante, len_dados):\n",
    "\n",
    "            # pega os ultimos dados como entrada\n",
    "            x = history[-step_ahead:]\n",
    "            x = x.to(device, non_blocking=True).unsqueeze(0)\n",
    "\n",
    "            with torch.autocast(device_type=\"cuda\", dtype=torch.float16, enabled=use_amp):\n",
    "                y = modelo(x)\n",
    "\n",
    "            #concatena a nova predição\n",
    "            history = torch.cat((history, y.cpu().flatten()), dim=0) \n",
    "\n",
    "    plt.figure(figsize=(12, 6))\n",
    "    plt.plot(dados, color=\"g\", label=\"original\")\n",
    "    plt.plot(range(instante, len_dados), history[instante:], color=\"b\", label=\"predito\")\n",
    "    plt.axvline(x=instante, color='r', linestyle='--')\n",
    "    \n",
    "    plt.xlabel(\"tempo\") \n",
    "    plt.ylabel(\"Valores\") \n",
    "    plt.title(\"Predição recursiva\") \n",
    "    plt.legend()\n",
    "    plt.show()\n",
    "\n",
    "    #retorna os dados original e predito a partir do instante de predição\n",
    "    return np.array(dados[instante:]), history[instante:].numpy()"
   ]
  },
  {
   "cell_type": "code",
   "execution_count": null,
   "id": "46b6e089-ef77-43fd-a47a-b70889ddbf1e",
   "metadata": {},
   "outputs": [],
   "source": [
    "data2 =  datagen(qtd_amostras = 600)\n",
    "split = 350\n",
    "orig, pred = print_recursive(m, data2, split, step_ahead)"
   ]
  },
  {
   "cell_type": "markdown",
   "id": "0bcb5603-545a-4276-a06a-8bea2accd5eb",
   "metadata": {},
   "source": [
    "## Teste de hipótese (Teste de Kolmogorov)"
   ]
  },
  {
   "cell_type": "markdown",
   "id": "ea7ca981-555c-4f2a-bafb-6776242d47b1",
   "metadata": {},
   "source": [
    "Hipótese nula: Não existe diferença entre a função predita pelo modelo e a saída real.</br>\n",
    "Hipótese alternativa: Existe uma diferença entre a função predita pelo modelo e saída real."
   ]
  },
  {
   "cell_type": "code",
   "execution_count": null,
   "id": "9b87ad6d-dbc3-4c4a-b291-7411a9e3ed21",
   "metadata": {},
   "outputs": [],
   "source": [
    "from scipy import stats\n",
    "stats.ks_2samp(orig, pred)"
   ]
  },
  {
   "cell_type": "markdown",
   "id": "c09d7c1e-53c0-4782-ad9c-7bc1f4ab7fb9",
   "metadata": {},
   "source": [
    "#### Interpretação"
   ]
  },
  {
   "cell_type": "markdown",
   "id": "a16b259c-073a-48c2-9c83-756ed8948463",
   "metadata": {},
   "source": [
    "Assumindo um limiar de 5%, temos que como pvalue > 0.05, falhamos em rejeitar a hipótese nula. O parâmetro statistics nos diz que a diferença absoluta máxima é de 0.048. Conclusão: Os dados são representados pela mesma distribuição"
   ]
  },
  {
   "cell_type": "markdown",
   "id": "a1efd9d0-99ab-4358-a574-ce31d6006053",
   "metadata": {},
   "source": [
    "## Plot quartil-quartil (Q-Q Plot)"
   ]
  },
  {
   "cell_type": "code",
   "execution_count": null,
   "id": "4d8ca8ee-5e4a-4192-a23f-541954e5531d",
   "metadata": {},
   "outputs": [],
   "source": [
    "import statsmodels.api as sm\n",
    "from statsmodels.graphics.gofplots import qqplot_2samples\n",
    "qqplot_2samples(orig, pred, line=\"45\")\n",
    "plt.show()"
   ]
  },
  {
   "cell_type": "markdown",
   "id": "1841eaf9-0f70-4e92-9c8b-263a215e1863",
   "metadata": {},
   "source": [
    "#### Interpretação"
   ]
  },
  {
   "cell_type": "markdown",
   "id": "e32e6a27-7b47-4d06-bb6e-c4707797d862",
   "metadata": {},
   "source": [
    "Pelo gráfico, como segue a linha dos 45º, é possível inferir que as predições feitas pelo modelo pertencem à mesma distribuição dos dados originais, bem como é não é possível perceber a presença de outliers significativos. Portanto é possível inferir que temos um bom modelo"
   ]
  },
  {
   "cell_type": "markdown",
   "id": "68b34bb2-797b-4cbd-a712-dc510c52aaa2",
   "metadata": {},
   "source": [
    "## Autocorrelação"
   ]
  },
  {
   "cell_type": "code",
   "execution_count": null,
   "id": "63256f26-8fd3-4036-b297-d61c6769debe",
   "metadata": {},
   "outputs": [],
   "source": [
    "from statsmodels.tsa.stattools import acf\n",
    "ac_orig = acf(orig, fft=True)\n",
    "ac_pred = acf(pred, fft=True)"
   ]
  },
  {
   "cell_type": "code",
   "execution_count": null,
   "id": "902ea853-d8be-4966-8b07-5dbb38dc7637",
   "metadata": {},
   "outputs": [],
   "source": [
    "plt.figure()\n",
    "plt.stem(ac_orig, linefmt = \"b\", label=\"original\")\n",
    "plt.stem(ac_pred, linefmt = \"r\", label=\"predito\")\n",
    "plt.axhline(y=0, color='g', linestyle='--')\n",
    "\n",
    "plt.xticks(np.arange(0, 26, 5))\n",
    "plt.tick_params(axis='x', which='major', length=5)\n",
    "plt.minorticks_on()\n",
    "plt.tick_params(axis='x', which='minor', length=3, labelsize=0)\n",
    "\n",
    "plt.title(\"Autocorrelação\") \n",
    "plt.legend()\n",
    "plt.show()"
   ]
  },
  {
   "cell_type": "markdown",
   "id": "de2b8b3b-c57d-4403-9014-0b75437bc84a",
   "metadata": {},
   "source": [
    "#### Interpretação"
   ]
  },
  {
   "cell_type": "markdown",
   "id": "2139ec60-4016-4f6c-94f2-02c7932990a7",
   "metadata": {},
   "source": [
    "Pelo gráfico de correlação é possível notar que tanto os dados oriundos do modelo quanto os dados originais possuem curvas de correlação bastante similares, o que significa que a dependência temporal dos dados (tanto modelo e reais) respondem de forma similar quando tratados em relação a si mesmos"
   ]
  },
  {
   "cell_type": "markdown",
   "id": "ae86afb8-649a-4eb4-a5cf-660fe24166d9",
   "metadata": {},
   "source": [
    "Além disso, temos autocorrelação positiva até proximo de um lag de 10, o que significa que a série tende a seguir a mesma direção. A partir disso, a autocorrelação é levemente negativa implicando que os sinais tendem a ter mudança de direção."
   ]
  },
  {
   "cell_type": "markdown",
   "id": "d9f21644-823f-49f9-b1b1-2320ab969633",
   "metadata": {},
   "source": [
    "## Erros quadraticos"
   ]
  },
  {
   "cell_type": "code",
   "execution_count": null,
   "id": "52de1480-ff3f-4343-abc8-373a7d214473",
   "metadata": {},
   "outputs": [],
   "source": [
    "def mse(pred, orig):\n",
    "    return ((pred - orig)**2).mean(axis=0)\n",
    "\n",
    "def eqmn(pred, orig, x_hat):\n",
    "    u = np.array(orig).mean(axis=0)\n",
    "    return mse(pred, orig)/(mse(x_hat, orig) + 1e-6)"
   ]
  },
  {
   "cell_type": "code",
   "execution_count": null,
   "id": "9727952f-ea7f-48c5-9768-ea59f0be6762",
   "metadata": {},
   "outputs": [],
   "source": [
    "#valor médio do processo\n",
    "u = np.array(orig).mean(axis=0)\n",
    "eqmn1 = eqmn(pred, orig, u)\n",
    "\n",
    "#valor da amostra imediatamente anterior\n",
    "x_hat_a = data2[split-1]\n",
    "eqmn2 = eqmn(pred, orig, x_hat_a)"
   ]
  },
  {
   "cell_type": "code",
   "execution_count": null,
   "id": "5f1f1957-1686-458c-ac98-8e585d4816c6",
   "metadata": {},
   "outputs": [],
   "source": [
    " print(f\"EQMN1: {eqmn1:.4f} ,  EQMN2: {eqmn2:.4f}\")"
   ]
  },
  {
   "cell_type": "markdown",
   "id": "595941b0-bbdd-4fe0-aeaf-54220b69e379",
   "metadata": {},
   "source": [
    "#### Interpretação"
   ]
  },
  {
   "cell_type": "markdown",
   "id": "c3ee75cd-74bb-4d51-93d8-66ad070bd11f",
   "metadata": {},
   "source": [
    "Pelos dados, como EQMN1 << 1, é possível inferir que temos um preditor SUPERIOR a um preditor que apenas estime o valor futuro como o valor médio do processo"
   ]
  },
  {
   "cell_type": "markdown",
   "id": "86d2418a-76c7-428b-87f3-63cfa20ecea0",
   "metadata": {},
   "source": [
    "Também é possível inferir, como EQMN2 << 1, que temos um preditor SUPERIOR a um preditor que apenas estime o valor futuro como sendo igual ao valor imediatamente anterior ao processo."
   ]
  },
  {
   "cell_type": "code",
   "execution_count": null,
   "id": "6aaf5047-90cb-4acf-9d94-538f295248f2",
   "metadata": {},
   "outputs": [],
   "source": []
  }
 ],
 "metadata": {
  "kernelspec": {
   "display_name": "Python 3 (ipykernel)",
   "language": "python",
   "name": "python3"
  },
  "language_info": {
   "codemirror_mode": {
    "name": "ipython",
    "version": 3
   },
   "file_extension": ".py",
   "mimetype": "text/x-python",
   "name": "python",
   "nbconvert_exporter": "python",
   "pygments_lexer": "ipython3",
   "version": "3.10.12"
  }
 },
 "nbformat": 4,
 "nbformat_minor": 5
}
